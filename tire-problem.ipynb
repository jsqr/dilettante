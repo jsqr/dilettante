{
 "cells": [
  {
   "cell_type": "markdown",
   "metadata": {},
   "source": [
    "# Tire Problem\n",
    "\n",
    "The problem is to estimate the time and distance taken for a pickup truck tire to decelerate from highway speed (about 30m/s) to rest.\n",
    "\n",
    "## Assumptions\n",
    "\n",
    "Assume that the tire is about 1m in diameter, 0.25m wide, and has a mass of 16kg.\n",
    "\n",
    "Further assume that (1) the coefficient of friction for a tire sliding on its sidewall is about the same as for a tire operating normally on its tread, or 0.7 on dry roads, and (2) the drag coefficient for the same configuration is about 1.\n",
    "\n",
    "These assumptions will likely lead to a *low* estimate of the time and distance to come to rest, because the sidewall probably doesn't present as effective a braking surface as the tread, and the circular cross section of the tire would also provide some additional streamlining. We will also assume that the tire slides without rolling or bouncing, either of which would increase the time and distance in unpredictable ways. So we are really estimating lower bounds.\n",
    "\n",
    "## The Model\n",
    "\n",
    "The sliding friction force is $- \\mu m \\mbox{g}$, and the force due to air resistance is \n",
    "$-\\frac{\\rho~C_D\\mbox{A}}{2} v^2$, where $\\mu$ is the coefficient of friction, g is the gravitational acceleration ($9.8\\mbox{m}/\\mbox{s}^2$), $\\rho$ is the density of air ($1.23\\mbox{kg}/\\mbox{m}^3$), $C_D$ is the drag coefficient, and $A$ is the cross-sectional area of the tire ($\\sim.25\\mbox{m}^2$).\n",
    "\n",
    "Thus we get the equation of motion\n",
    "$$x''(t) = -\\mu \\mbox{g} - \\frac{\\rho~C_D\\mbox{A}}{2m} x'(t)^2,$$\n",
    "which can be rewritten in terms of velocity with some substitutions as\n",
    "$$v'(t) = -\\alpha - \\beta v(t)^2.$$\n",
    "\n",
    "## Solution\n",
    "\n",
    "The solution to this first-order nonlinear ODE (via [WolframAlpha](https://www.wolframalpha.com/)) is\n",
    "\n",
    "$$v(t) = - \\sqrt \\alpha \\frac{\\tan(\\sqrt \\alpha \\sqrt \\beta c + \\sqrt \\alpha \\sqrt \\beta t)}{\\sqrt \\beta},$$\n",
    "with the constant determined by the initial condition $v(0) = v_0$:\n",
    "$$c = \\frac{1}{\\sqrt \\alpha \\sqrt \\beta} \\tan^{-1}(-\\sqrt \\beta v_0 / \\sqrt \\alpha).$$\n",
    "\n",
    "The velocity goes to zero when the argument of the tangent is zero, or \n",
    "$$\n",
    "T = -c = -\\sqrt{\\frac{2 m}{\\mu \\mbox{g} \\rho C_D A}} \\tan^{-1}(-\\sqrt{\\frac{\\rho C_D A}{2 m \\mu \\mbox{g}}}v_0).\n",
    "$$"
   ]
  },
  {
   "cell_type": "code",
   "execution_count": 20,
   "metadata": {},
   "outputs": [
    {
     "data": {
      "text/plain": [
       "-3.284083658708442"
      ]
     },
     "execution_count": 20,
     "metadata": {},
     "output_type": "execute_result"
    }
   ],
   "source": [
    "alpha = 0.7 * 9.8;\n",
    "beta = 1.23 * 1 * 0.25 / (2*16);\n",
    "v0 = 30;\n",
    "roota = sqrt(alpha); rootb = sqrt(beta);\n",
    "c = 1/(roota*rootb) * atan(-rootb*v0/roota)"
   ]
  },
  {
   "cell_type": "code",
   "execution_count": 21,
   "metadata": {},
   "outputs": [],
   "source": [
    "using Plots"
   ]
  },
  {
   "cell_type": "code",
   "execution_count": 22,
   "metadata": {},
   "outputs": [
    {
     "data": {
      "text/plain": [
       "Plots.PlotlyBackend()"
      ]
     },
     "execution_count": 22,
     "metadata": {},
     "output_type": "execute_result"
    }
   ],
   "source": [
    "plotly()"
   ]
  },
  {
   "cell_type": "code",
   "execution_count": 23,
   "metadata": {},
   "outputs": [
    {
     "data": {
      "text/plain": [
       "v (generic function with 1 method)"
      ]
     },
     "execution_count": 23,
     "metadata": {},
     "output_type": "execute_result"
    }
   ],
   "source": [
    "v(t) = -roota * tan(roota*rootb*c + roota*rootb*t)/rootb"
   ]
  },
  {
   "cell_type": "code",
   "execution_count": 24,
   "metadata": {},
   "outputs": [
    {
     "data": {
      "text/html": [
       "<script src=\"/home/jj/.julia/v0.6/Plots/src/backends/../../deps/plotly-latest.min.js\"></script>    <div id=\"482dae8e-5a45-4360-b753-f526233d6db9\" style=\"width:600px;height:400px;\"></div>\n",
       "    <script>\n",
       "    PLOT = document.getElementById('482dae8e-5a45-4360-b753-f526233d6db9');\n",
       "    Plotly.plot(PLOT, [{\"showlegend\":true,\"mode\":\"lines\",\"xaxis\":\"x\",\"colorbar\":{\"title\":\"\"},\"line\":{\"color\":\"rgba(0, 154, 250, 1.000)\",\"shape\":\"linear\",\"dash\":\"solid\",\"width\":1},\"y\":[29.45837239222868,24.90977561553168,22.506821537976816,20.62918258101373,18.724413366304404,17.074792059243556,15.403108327265656,13.572808012499259,12.027306044658694,10.72518124869037,9.353666552965024,8.016915070832647,6.580400596101906,5.246204479390821,3.8850770198678912,2.7546715451105968,1.3872913988440077,0.1086164631341052,-1.941332925535118],\"type\":\"scatter\",\"name\":\"y1\",\"yaxis\":\"y\",\"x\":[0.03527894332246933,0.36148371521093375,0.5575191862376195,0.723264682084825,0.9033107474747369,1.0692972944075745,1.247252415292141,1.4534308745094928,1.6366579575209872,1.7973315977218423,1.9725089948925796,2.148727519426181,2.3435596322748684,2.528937471470035,2.7216874121734844,2.8839418056457014,3.082036029310652,3.268250442263019,3.566580372198009]}], {\"showlegend\":true,\"xaxis\":{\"gridwidth\":0.5,\"tickvals\":[0.5,1.0,1.5,2.0,2.5,3.0,3.5],\"visible\":true,\"ticks\":\"inside\",\"tickmode\":\"array\",\"domain\":[0.03619130941965587,0.9934383202099738],\"linecolor\":\"rgba(0, 0, 0, 1.000)\",\"showgrid\":true,\"title\":\"\",\"mirror\":false,\"tickangle\":0,\"showline\":true,\"gridcolor\":\"rgba(0, 0, 0, 0.100)\",\"titlefont\":{\"color\":\"rgba(0, 0, 0, 1.000)\",\"family\":\"sans-serif\",\"size\":15},\"tickcolor\":\"rgb(0, 0, 0)\",\"ticktext\":[\"0.5\",\"1.0\",\"1.5\",\"2.0\",\"2.5\",\"3.0\",\"3.5\"],\"zeroline\":false,\"type\":\"-\",\"tickfont\":{\"color\":\"rgba(0, 0, 0, 1.000)\",\"family\":\"sans-serif\",\"size\":11},\"zerolinecolor\":\"rgba(0, 0, 0, 1.000)\",\"anchor\":\"y\"},\"paper_bgcolor\":\"rgba(255, 255, 255, 1.000)\",\"annotations\":[],\"height\":400,\"margin\":{\"l\":0,\"b\":20,\"r\":0,\"t\":20},\"plot_bgcolor\":\"rgba(255, 255, 255, 1.000)\",\"yaxis\":{\"gridwidth\":0.5,\"tickvals\":[0.0,5.0,10.0,15.0,20.0,25.0],\"visible\":true,\"ticks\":\"inside\",\"tickmode\":\"array\",\"domain\":[0.03762029746281716,0.9901574803149606],\"linecolor\":\"rgba(0, 0, 0, 1.000)\",\"showgrid\":true,\"title\":\"\",\"mirror\":false,\"tickangle\":0,\"showline\":true,\"gridcolor\":\"rgba(0, 0, 0, 0.100)\",\"titlefont\":{\"color\":\"rgba(0, 0, 0, 1.000)\",\"family\":\"sans-serif\",\"size\":15},\"tickcolor\":\"rgb(0, 0, 0)\",\"ticktext\":[\"0\",\"5\",\"10\",\"15\",\"20\",\"25\"],\"zeroline\":false,\"type\":\"-\",\"tickfont\":{\"color\":\"rgba(0, 0, 0, 1.000)\",\"family\":\"sans-serif\",\"size\":11},\"zerolinecolor\":\"rgba(0, 0, 0, 1.000)\",\"anchor\":\"x\"},\"legend\":{\"bordercolor\":\"rgba(0, 0, 0, 1.000)\",\"bgcolor\":\"rgba(255, 255, 255, 1.000)\",\"font\":{\"color\":\"rgba(0, 0, 0, 1.000)\",\"family\":\"sans-serif\",\"size\":11},\"y\":1.0,\"x\":1.0},\"width\":600});\n",
       "    </script>\n"
      ]
     },
     "execution_count": 24,
     "metadata": {},
     "output_type": "execute_result"
    }
   ],
   "source": [
    "plot(v, 0, -1.1*c)"
   ]
  },
  {
   "cell_type": "markdown",
   "metadata": {},
   "source": [
    "On these assumptions, it takes the tire $T \\sim3.3$s to come to rest.\n",
    "\n",
    "We can see in the plot how the tire decelerates more rapidly at first, when air resistance is stronger, and then settles into more gradual, linear deceleration dominated by skidding. \n",
    "\n",
    "To get the distance, integrate $v$:\n",
    "\n",
    "$$\\Delta x = \\int_0^T v(t) dt $$\n",
    "$$ ~~~~~ = \\log (\\cos(\\sqrt \\alpha \\sqrt \\beta c + \\sqrt \\alpha \\sqrt \\beta t) / \\beta ~|_0^T $$\n",
    "$$ ~~~~~ = - \\log (\\cos(\\sqrt \\alpha \\sqrt \\beta c)) / \\beta $$\n",
    "$$ ~~~~~ = - \\log (\\cos (\\tan^{-1} (-\\sqrt \\beta v_0 / \\sqrt \\alpha))) / \\beta $$\n",
    "$$ ~~~~~ = - \\frac{\\log(\\frac{1}{\\sqrt{\\frac{\\beta}{\\alpha}v_0^2 + 1}})}{\\beta} $$\n",
    "$$ ~~~~~ = \\frac{\\log(\\frac{\\beta}{\\alpha}v_0^2 + 1)}{2 \\beta} $$\n",
    "$$ ~~~~~ = \\frac{m}{\\rho C_D A} \\log (\\frac{\\rho C_D A}{2 m \\mu \\mbox{g}} v_0^2 + 1).$$"
   ]
  },
  {
   "cell_type": "code",
   "execution_count": 25,
   "metadata": {},
   "outputs": [
    {
     "data": {
      "text/plain": [
       "42.441719098212296"
      ]
     },
     "execution_count": 25,
     "metadata": {},
     "output_type": "execute_result"
    }
   ],
   "source": [
    "log(beta/alpha * v0^2 + 1) / (2*beta)"
   ]
  },
  {
   "cell_type": "markdown",
   "metadata": {},
   "source": [
    "So just over 40m, or about 140ft.\n",
    "\n",
    "Since we have closed-form expressions for $T$ and $\\Delta x$, it's easy to explore the effect of different assumptions for the numberical quantities, such as $\\mu$ or $C_D A$. Other physical effects, like bouncing or rolling, are harder to model although those would lead to longer stopping times and distances so this estimate is still meaningful as a lower bound. "
   ]
  },
  {
   "cell_type": "markdown",
   "metadata": {},
   "source": []
  }
 ],
 "metadata": {
  "kernelspec": {
   "display_name": "Julia 0.6.1",
   "language": "julia",
   "name": "julia-0.6"
  },
  "language_info": {
   "file_extension": ".jl",
   "mimetype": "application/julia",
   "name": "julia",
   "version": "0.6.1"
  }
 },
 "nbformat": 4,
 "nbformat_minor": 2
}
